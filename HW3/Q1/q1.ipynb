{
 "cells": [
  {
   "cell_type": "markdown",
   "metadata": {},
   "source": [
    "# CSE6242 - HW3 - Q1"
   ]
  },
  {
   "cell_type": "markdown",
   "metadata": {},
   "source": [
    "<div class=\"alert alert-block alert-danger\">\n",
    "    WARNING: Do <strong>NOT</strong> remove any comment that says \"#export\" because that will crash the autograder in Gradescope. We use this comment to export your code in these cells for grading.\n",
    "</div>"
   ]
  },
  {
   "cell_type": "markdown",
   "metadata": {},
   "source": [
    "Pyspark Imports"
   ]
  },
  {
   "cell_type": "code",
   "execution_count": 1,
   "metadata": {},
   "outputs": [],
   "source": [
    "#export\n",
    "### DO NOT MODIFY THIS CELL ###\n",
    "import pyspark\n",
    "from pyspark.sql import SQLContext\n",
    "from pyspark.sql.functions import hour, when, col, date_format, to_timestamp, ceil, coalesce"
   ]
  },
  {
   "cell_type": "markdown",
   "metadata": {},
   "source": [
    "Initialize PySpark Context"
   ]
  },
  {
   "cell_type": "code",
   "execution_count": 2,
   "metadata": {},
   "outputs": [],
   "source": [
    "### DO NOT MODIFY THIS CELL ###\n",
    "sc = pyspark.SparkContext(appName=\"HW3-Q1\")\n",
    "sqlContext = SQLContext(sc)"
   ]
  },
  {
   "cell_type": "markdown",
   "metadata": {},
   "source": [
    "Define function for loading data"
   ]
  },
  {
   "cell_type": "code",
   "execution_count": 3,
   "metadata": {},
   "outputs": [],
   "source": [
    "### DO NOT MODIFY THIS CELL ###\n",
    "def load_data():\n",
    "    df = sqlContext.read.option(\"header\",True) \\\n",
    "     .csv(\"yellow_tripdata_2019-01_short.csv\")\n",
    "    return df"
   ]
  },
  {
   "cell_type": "markdown",
   "metadata": {},
   "source": [
    "### Q1.1"
   ]
  },
  {
   "cell_type": "markdown",
   "metadata": {},
   "source": [
    "Perform data casting to clean incoming dataset"
   ]
  },
  {
   "cell_type": "code",
   "execution_count": 4,
   "metadata": {},
   "outputs": [],
   "source": [
    "#export\n",
    "def clean_data(df):\n",
    "    '''\n",
    "    input: df a dataframe\n",
    "    output: df a dataframe with the all the original columns\n",
    "    '''\n",
    "    \n",
    "    # START YOUR CODE HERE ---------\n",
    "\n",
    "    df = df.withColumn(\"passenger_count\", col(\"passenger_count\").cast(\"integer\"))\n",
    "    df = df.withColumn(\"total_amount\", col(\"total_amount\").cast(\"float\"))\n",
    "    df = df.withColumn(\"tip_amount\", col(\"tip_amount\").cast(\"float\"))\n",
    "    df = df.withColumn(\"trip_distance\", col(\"trip_distance\").cast(\"float\"))\n",
    "    df = df.withColumn(\"fare_amount\", col(\"fare_amount\").cast(\"float\"))\n",
    "    df = df.withColumn(\"tpep_pickup_datetime\", to_timestamp(col(\"tpep_pickup_datetime\")))\n",
    "    df = df.withColumn(\"tpep_dropoff_datetime\", to_timestamp(col(\"tpep_dropoff_datetime\")))\n",
    "\n",
    "    # END YOUR CODE HERE -----------\n",
    "    \n",
    "    return df"
   ]
  },
  {
   "cell_type": "markdown",
   "metadata": {},
   "source": [
    "### Q1.2"
   ]
  },
  {
   "cell_type": "markdown",
   "metadata": {},
   "source": [
    "Find rate per person for based on how many passengers travel between pickup and dropoff locations. "
   ]
  },
  {
   "cell_type": "code",
   "execution_count": 5,
   "metadata": {},
   "outputs": [],
   "source": [
    "#export\n",
    "def common_pair(df):\n",
    "    '''\n",
    "    input: df a dataframe\n",
    "    output: df a dataframe with following columns:\n",
    "            - PULocationID\n",
    "            - DOLocationID\n",
    "            - total_passenger_count\n",
    "            - per_person_rate\n",
    "            \n",
    "    per_person_rate is the total_amount per person for a given pair.\n",
    "    \n",
    "    '''\n",
    "    \n",
    "    # START YOUR CODE HERE ---------\n",
    "    grouped_df = df.groupBy(\"PULocationID\", \"DOLocationID\") \\\n",
    "                   .agg({\"passenger_count\": \"sum\", \"total_amount\": \"sum\"}) \\\n",
    "                   .withColumnRenamed(\"sum(passenger_count)\", \"total_passenger_count\") \\\n",
    "                   .withColumn(\"per_person_rate\", col(\"sum(total_amount)\") / col(\"total_passenger_count\"))\n",
    "    \n",
    "    filtered_df = grouped_df.filter(col(\"PULocationID\") != col(\"DOLocationID\"))\n",
    "    \n",
    "    sorted_df = filtered_df.orderBy(col(\"total_passenger_count\").desc(), col(\"per_person_rate\").desc()).drop(\"sum(total_amount)\")\n",
    "    \n",
    "    df = sorted_df.limit(10)\n",
    "    \n",
    "    # END YOUR CODE HERE -----------\n",
    "    \n",
    "    return df"
   ]
  },
  {
   "cell_type": "markdown",
   "metadata": {},
   "source": [
    "### Q1.3"
   ]
  },
  {
   "cell_type": "markdown",
   "metadata": {},
   "source": [
    "Find trips which trip distances generate the highest tip percentage."
   ]
  },
  {
   "cell_type": "code",
   "execution_count": 6,
   "metadata": {},
   "outputs": [],
   "source": [
    "#export\n",
    "def distance_with_most_tip(df):\n",
    "    '''\n",
    "    input: df a dataframe\n",
    "    output: df a dataframe with following columns:\n",
    "            - trip_distance\n",
    "            - tip_percent\n",
    "            \n",
    "    trip_percent is the percent of tip out of fare_amount\n",
    "    \n",
    "    '''\n",
    "    \n",
    "    # START YOUR CODE HERE ---------\n",
    "    \n",
    "    filtered_df = df.filter((col(\"fare_amount\") > 2.00) & (col(\"trip_distance\") > 0))\n",
    "    \n",
    "    # Calculate tip_percent for each trip\n",
    "    df_with_tip_percent = filtered_df.withColumn(\"tip_percent\", (col(\"tip_amount\") * 100) / col(\"fare_amount\"))\n",
    "    \n",
    "    # Round trip distance up to the nearest mile\n",
    "    df_with_rounded_distance = df_with_tip_percent.withColumn(\"trip_distance\", ceil(col(\"trip_distance\")))\n",
    "    \n",
    "    # Group by rounded trip distance and calculate the average tip_percent\n",
    "    df_grouped = df_with_rounded_distance.groupBy(\"trip_distance\") \\\n",
    "                   .agg({\"tip_percent\": \"avg\"}) \\\n",
    "                   .withColumnRenamed(\"avg(tip_percent)\", \"tip_percent\")\n",
    "    \n",
    "    # Sort by tip_percent in descending order and limit to top 15\n",
    "    df = df_grouped.orderBy(col(\"tip_percent\").desc()).limit(15)\n",
    "    \n",
    "\n",
    "    \n",
    "    # END YOUR CODE HERE -----------\n",
    "    \n",
    "    return df"
   ]
  },
  {
   "cell_type": "markdown",
   "metadata": {},
   "source": [
    "### Q1.4"
   ]
  },
  {
   "cell_type": "markdown",
   "metadata": {},
   "source": [
    "Determine the average speed at different times of day."
   ]
  },
  {
   "cell_type": "code",
   "execution_count": 24,
   "metadata": {},
   "outputs": [],
   "source": [
    "#export\n",
    "def time_with_most_traffic(df):\n",
    "    '''\n",
    "    input: df a dataframe\n",
    "    output: df a dataframe with following columns:\n",
    "            - time_of_day\n",
    "            - am_avg_speed\n",
    "            - pm_avg_speed\n",
    "            \n",
    "    am_avg_speed and pm_avg_speed are the average trip distance / average trip time calculated for each hour\n",
    "    \n",
    "    '''\n",
    "    # START YOUR CODE HERE ---------\n",
    "    \n",
    "    df = df.withColumn('pickup_hour', hour(to_timestamp(col('tpep_pickup_datetime')))) \\\n",
    "           .withColumn('trip_duration', \n",
    "                       (col('tpep_dropoff_datetime').cast('long') - col('tpep_pickup_datetime').cast('long')))\n",
    "    \n",
    "    # Calculate average speed\n",
    "    df = df.withColumn('avg_speed', col('trip_distance') / (col('trip_duration') / 3600))\n",
    "\n",
    "    # Create a formatted time_of_day column with 12-hour format and AM/PM notation\n",
    "    df = df.withColumn('time_of_day', date_format(col('tpep_pickup_datetime'), 'h'))\n",
    "\n",
    "    # Separate AM and PM speeds\n",
    "    df_am = df.filter(col('pickup_hour') < 12).groupBy('time_of_day') \\\n",
    "              .agg(pyspark.sql.functions.avg('avg_speed').alias('am_avg_speed'))\n",
    "    df_pm = df.filter(col('pickup_hour') >= 12).groupBy('time_of_day') \\\n",
    "              .agg(pyspark.sql.functions.avg('avg_speed').alias('pm_avg_speed'))\n",
    "    \n",
    "    # Join AM and PM dataframes on time_of_day\n",
    "    df = df_am.join(df_pm, on='time_of_day', how='outer').orderBy('time_of_day')\n",
    "\n",
    "    \n",
    "    # END YOUR CODE HERE -----------\n",
    "    \n",
    "    return df"
   ]
  },
  {
   "cell_type": "markdown",
   "metadata": {},
   "source": [
    "## The below cells are for you to investigate your solutions and will not be graded"
   ]
  },
  {
   "cell_type": "code",
   "execution_count": 8,
   "metadata": {
    "scrolled": false
   },
   "outputs": [
    {
     "data": {
      "text/plain": [
       "[('VendorID', 'string'),\n",
       " ('tpep_pickup_datetime', 'timestamp'),\n",
       " ('tpep_dropoff_datetime', 'timestamp'),\n",
       " ('passenger_count', 'int'),\n",
       " ('trip_distance', 'float'),\n",
       " ('RatecodeID', 'string'),\n",
       " ('store_and_fwd_flag', 'string'),\n",
       " ('PULocationID', 'string'),\n",
       " ('DOLocationID', 'string'),\n",
       " ('payment_type', 'string'),\n",
       " ('fare_amount', 'float'),\n",
       " ('extra', 'string'),\n",
       " ('mta_tax', 'string'),\n",
       " ('tip_amount', 'float'),\n",
       " ('tolls_amount', 'string'),\n",
       " ('improvement_surcharge', 'string'),\n",
       " ('total_amount', 'float'),\n",
       " ('congestion_surcharge', 'string')]"
      ]
     },
     "execution_count": 8,
     "metadata": {},
     "output_type": "execute_result"
    }
   ],
   "source": [
    "df = load_data()\n",
    "df = clean_data(df)\n",
    "df.dtypes"
   ]
  },
  {
   "cell_type": "code",
   "execution_count": 9,
   "metadata": {},
   "outputs": [
    {
     "name": "stdout",
     "output_type": "stream",
     "text": [
      "+------------+------------+---------------------+------------------+\n",
      "|PULocationID|DOLocationID|total_passenger_count|   per_person_rate|\n",
      "+------------+------------+---------------------+------------------+\n",
      "|         239|         238|                   62|  4.26274198870505|\n",
      "|         237|         236|                   60| 4.482500068346659|\n",
      "|         263|         141|                   52|3.4190384974846473|\n",
      "|         161|         236|                   42| 5.368571440378825|\n",
      "|         148|          79|                   42| 4.711904752822149|\n",
      "|         142|         238|                   39|  5.05487182812813|\n",
      "|         141|         236|                   37| 4.355675723101641|\n",
      "|         239|         143|                   37| 4.252162224537617|\n",
      "|         239|         142|                   35| 3.817714350564139|\n",
      "|          79|         170|                   34| 6.394705884596881|\n",
      "+------------+------------+---------------------+------------------+\n",
      "\n"
     ]
    }
   ],
   "source": [
    "common_pair(df).show()"
   ]
  },
  {
   "cell_type": "code",
   "execution_count": 10,
   "metadata": {},
   "outputs": [
    {
     "name": "stdout",
     "output_type": "stream",
     "text": [
      "+-------------+------------------+\n",
      "|trip_distance|       tip_percent|\n",
      "+-------------+------------------+\n",
      "|            1|17.129815971513313|\n",
      "|            2|15.815527155632552|\n",
      "|           17|15.796441782308916|\n",
      "|           20| 15.11240992123345|\n",
      "|            3|14.886705727113446|\n",
      "|            6|14.579695131601051|\n",
      "|            5|14.245405861990653|\n",
      "|            4|13.831569507473274|\n",
      "|            9|13.814476557648435|\n",
      "|            8|12.072596772433315|\n",
      "|           19|11.952632334985276|\n",
      "|           10|11.880490518902954|\n",
      "|            7| 10.80057562837643|\n",
      "|           21|10.739019886973427|\n",
      "|           18|10.696822158448429|\n",
      "+-------------+------------------+\n",
      "\n"
     ]
    }
   ],
   "source": [
    "distance_with_most_tip(df).show()"
   ]
  },
  {
   "cell_type": "code",
   "execution_count": 25,
   "metadata": {},
   "outputs": [
    {
     "name": "stdout",
     "output_type": "stream",
     "text": [
      "+-----------+-----------------+-------------------+\n",
      "|time_of_day|     am_avg_speed|       pm_avg_speed|\n",
      "+-----------+-----------------+-------------------+\n",
      "|          1|10.87329879921813|  4.486486396274051|\n",
      "|         10|             null| 11.452775401547134|\n",
      "|         11|             null|  13.29377144720091|\n",
      "|         12|12.17564301026818|               null|\n",
      "|          3|             null|                0.0|\n",
      "|          4|             null|                0.0|\n",
      "|          5|             null| 1.8609359136845776|\n",
      "|          6|             null|  9.989847870647605|\n",
      "|          7|             null|0.18415305490417713|\n",
      "|          8|             null|  6.433583983527856|\n",
      "+-----------+-----------------+-------------------+\n",
      "\n"
     ]
    }
   ],
   "source": [
    "time_with_most_traffic(df).show()"
   ]
  },
  {
   "cell_type": "code",
   "execution_count": null,
   "metadata": {},
   "outputs": [],
   "source": []
  }
 ],
 "metadata": {
  "kernelspec": {
   "display_name": "Python 3",
   "language": "python",
   "name": "python3"
  },
  "language_info": {
   "codemirror_mode": {
    "name": "ipython",
    "version": 3
   },
   "file_extension": ".py",
   "mimetype": "text/x-python",
   "name": "python",
   "nbconvert_exporter": "python",
   "pygments_lexer": "ipython3",
   "version": "3.6.9"
  }
 },
 "nbformat": 4,
 "nbformat_minor": 5
}
