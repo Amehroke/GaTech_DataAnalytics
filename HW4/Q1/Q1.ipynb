{
 "cells": [
  {
   "cell_type": "markdown",
   "metadata": {},
   "source": [
    "# DVA HW4 Q1\n",
    "## Pagerank Algorithm\n",
    "\n",
    "Do not distribute or publish this code  \n",
    "Do not change the `#export` statements or add and other code or comments above them. They are needed for grading."
   ]
  },
  {
   "cell_type": "code",
   "execution_count": 1,
   "metadata": {},
   "outputs": [],
   "source": [
    "#export\n",
    "'''\n",
    "*** Imports ***\n",
    "    DO NOT EDIT or add anything to this section\n",
    "'''\n",
    "import numpy as np\n",
    "import time\n",
    "import argparse\n",
    "import sys"
   ]
  },
  {
   "cell_type": "markdown",
   "metadata": {},
   "source": [
    "### Update your GT username and Id"
   ]
  },
  {
   "cell_type": "code",
   "execution_count": 2,
   "metadata": {},
   "outputs": [],
   "source": [
    "#export\n",
    "def author():                                                                                             \n",
    "        return \"amehroke3\"      # replace gburdell3 with your Georgia Tech username.                                                                                             \n",
    "                                                                                              \n",
    "def gtid():                                                                                               \n",
    "    return 987654321            # replace with your GT ID number (https://registrar.gatech.edu/info/gtid-lookup)  "
   ]
  },
  {
   "cell_type": "code",
   "execution_count": 3,
   "metadata": {},
   "outputs": [],
   "source": [
    "'''\n",
    "*** Utility function ***\n",
    "    DO NOT EDIT\n",
    "'''\n",
    "def dump_results(command, iterations, result):\n",
    "    print(\"Sorting...\", file=sys.stderr)\n",
    "    sorted_result = sorted(enumerate(result), key=lambda x: x[1], reverse=True)\n",
    "    output_result = \"node_id\\tpr_value\\n\"\n",
    "    for node_id, pr_value in sorted_result[:10]:\n",
    "        output_result += \"{0}\\t{1}\\n\".format(node_id, pr_value)\n",
    "    print(output_result)\n",
    "\n",
    "    with open(command+'_iter'+str(iterations)+\".txt\",\"w\") as output_file:\n",
    "        output_file.write(output_result)"
   ]
  },
  {
   "cell_type": "markdown",
   "metadata": {},
   "source": [
    "### PageRank Class\n",
    "Please add your code as indicated below  \n",
    "You do not need to add code outside of the indicated areas"
   ]
  },
  {
   "cell_type": "code",
   "execution_count": 4,
   "metadata": {},
   "outputs": [],
   "source": [
    "#export\n",
    "class PageRank:\n",
    "    def __init__(self, edge_file):\n",
    "\n",
    "        self.node_degree = {}\n",
    "        self.max_node_id = 0\n",
    "        self.edge_file = edge_file\n",
    "\n",
    "    def read_edge_file(self, edge_file):\n",
    "        with open(edge_file) as f:\n",
    "            for line in f:\n",
    "                val = line.split('\\t')\n",
    "                yield int(val[0]), int(val[1])\n",
    "\n",
    "    \"\"\"\n",
    "    Step1: Calculate the out-degree of each node and maximum node_id of the graph.\n",
    "    Store the out-degree in class variable \"node_degree\" and maximum node id to \"max_node_id\".\n",
    "    \"\"\"\n",
    "    def calculate_node_degree(self):\n",
    "        for source,target in self.read_edge_file(self.edge_file):\n",
    "        ### STEP 1\n",
    "        ### Implement your code here\n",
    "        #############################################\n",
    "            if source in self.node_degree:\n",
    "                self.node_degree[source] += 1\n",
    "            else:\n",
    "                self.node_degree[source] = 1\n",
    "\n",
    "            self.max_node_id = max(self.max_node_id, source, target)\n",
    "\n",
    "        #############################################\n",
    "\n",
    "        print(\"Max node id: {}\".format(self.max_node_id))\n",
    "        print(\"Total source number: {}\".format(len(self.node_degree)))\n",
    "\n",
    "    def get_max_node_id(self):\n",
    "        return self.max_node_id\n",
    "\n",
    "    def run_pagerank(self, node_weights,  damping_factor=0.85, iterations=10):\n",
    "\n",
    "        pr_values = [1.0 / (self.max_node_id + 1)] * (self.max_node_id + 1)\n",
    "        start_time = time.time()\n",
    "        \"\"\" \n",
    "        Step2: Implement pagerank algorithm as described in lecture slides and the question.\n",
    "\n",
    "        Incoming Parameters:\n",
    "            node_weights: Probability of each node to flyout during random walk\n",
    "            damping_factor: Probability of continuing on the random walk\n",
    "            iterations: Number of iterations to run the algorithm \n",
    "            check the __main__ function to understand node_weights and max_node_id\n",
    "        \n",
    "        Use the calculated out-degree to calculate the pagerank value of each node\n",
    "        \"\"\"\n",
    "        for it in range(iterations):\n",
    "            \n",
    "            new_pr_values = [0.0] * (self.max_node_id + 1)\n",
    "            for source, target in self.read_edge_file(self.edge_file):\n",
    "\n",
    "        ### STEP 2\n",
    "        ### Implement your code here\n",
    "        #############################################\n",
    "                if self.node_degree[source] > 0:\n",
    "                    new_pr_values[target] += (damping_factor * pr_values[source] / self.node_degree[source])\n",
    "                    \n",
    "            for node in range(self.max_node_id + 1):\n",
    "                new_pr_values[node] += (1 - damping_factor) * node_weights[node]\n",
    "            \n",
    "            pr_values = new_pr_values\n",
    "\n",
    "\n",
    "        #############################################\n",
    "\n",
    "            print (\"Completed {0}/{1} iterations. {2} seconds elapsed.\".format(it + 1, iterations, time.time() - start_time))\n",
    "\n",
    "        return pr_values"
   ]
  },
  {
   "cell_type": "markdown",
   "metadata": {},
   "source": [
    "### Simplified Pagerank"
   ]
  },
  {
   "cell_type": "code",
   "execution_count": 5,
   "metadata": {},
   "outputs": [
    {
     "name": "stdout",
     "output_type": "stream",
     "text": [
      "Max node id: 1157826\n",
      "Total source number: 374785\n",
      "Completed 1/10 iterations. 1.792686939239502 seconds elapsed.\n",
      "Completed 2/10 iterations. 3.9136481285095215 seconds elapsed.\n",
      "Completed 3/10 iterations. 6.037517070770264 seconds elapsed.\n",
      "Completed 4/10 iterations. 8.140314102172852 seconds elapsed.\n",
      "Completed 5/10 iterations. 10.261029958724976 seconds elapsed.\n",
      "Completed 6/10 iterations. 12.353729009628296 seconds elapsed.\n",
      "Completed 7/10 iterations. 14.411086082458496 seconds elapsed.\n",
      "Completed 8/10 iterations. 16.418513774871826 seconds elapsed.\n",
      "Completed 9/10 iterations. 18.380513906478882 seconds elapsed.\n",
      "Completed 10/10 iterations. 20.369685888290405 seconds elapsed.\n"
     ]
    },
    {
     "name": "stderr",
     "output_type": "stream",
     "text": [
      "Sorting...\n"
     ]
    },
    {
     "name": "stdout",
     "output_type": "stream",
     "text": [
      "node_id\tpr_value\n",
      "663930\t0.0001724404640087135\n",
      "482708\t9.409193541687527e-05\n",
      "1034017\t5.480094973243455e-05\n",
      "663559\t4.87472647440821e-05\n",
      "357530\t4.5615623513891224e-05\n",
      "1120567\t4.4870100282189497e-05\n",
      "663605\t4.3482910860663805e-05\n",
      "663682\t3.65943675279321e-05\n",
      "1108860\t3.5276046684522986e-05\n",
      "664788\t3.503597066140542e-05\n",
      "\n",
      "Max node id: 1157826\n",
      "Total source number: 374785\n",
      "Completed 1/25 iterations. 1.8140439987182617 seconds elapsed.\n",
      "Completed 2/25 iterations. 3.952148199081421 seconds elapsed.\n",
      "Completed 3/25 iterations. 6.114274978637695 seconds elapsed.\n",
      "Completed 4/25 iterations. 8.289368867874146 seconds elapsed.\n",
      "Completed 5/25 iterations. 10.412549018859863 seconds elapsed.\n",
      "Completed 6/25 iterations. 12.503171920776367 seconds elapsed.\n",
      "Completed 7/25 iterations. 14.563784122467041 seconds elapsed.\n",
      "Completed 8/25 iterations. 16.714967966079712 seconds elapsed.\n",
      "Completed 9/25 iterations. 18.83351993560791 seconds elapsed.\n",
      "Completed 10/25 iterations. 20.94579291343689 seconds elapsed.\n",
      "Completed 11/25 iterations. 23.053272008895874 seconds elapsed.\n",
      "Completed 12/25 iterations. 25.131109952926636 seconds elapsed.\n",
      "Completed 13/25 iterations. 27.27563190460205 seconds elapsed.\n",
      "Completed 14/25 iterations. 29.371768951416016 seconds elapsed.\n",
      "Completed 15/25 iterations. 31.56156301498413 seconds elapsed.\n",
      "Completed 16/25 iterations. 33.77674102783203 seconds elapsed.\n",
      "Completed 17/25 iterations. 35.950576066970825 seconds elapsed.\n",
      "Completed 18/25 iterations. 38.08953499794006 seconds elapsed.\n",
      "Completed 19/25 iterations. 40.20851278305054 seconds elapsed.\n",
      "Completed 20/25 iterations. 42.31697916984558 seconds elapsed.\n",
      "Completed 21/25 iterations. 44.44714617729187 seconds elapsed.\n",
      "Completed 22/25 iterations. 46.57147002220154 seconds elapsed.\n",
      "Completed 23/25 iterations. 48.688076972961426 seconds elapsed.\n",
      "Completed 24/25 iterations. 50.82357311248779 seconds elapsed.\n",
      "Completed 25/25 iterations. 52.905853033065796 seconds elapsed.\n"
     ]
    },
    {
     "name": "stderr",
     "output_type": "stream",
     "text": [
      "Sorting...\n"
     ]
    },
    {
     "name": "stdout",
     "output_type": "stream",
     "text": [
      "node_id\tpr_value\n",
      "663930\t0.000172438581121727\n",
      "482708\t9.409158864049368e-05\n",
      "1034017\t5.478941005079604e-05\n",
      "663559\t4.874698942960063e-05\n",
      "357530\t4.561544279769612e-05\n",
      "1120567\t4.4847128373773044e-05\n",
      "663605\t4.348263426865654e-05\n",
      "663682\t3.659435702898396e-05\n",
      "1108860\t3.5251801674277104e-05\n",
      "664788\t3.5035704161325006e-05\n",
      "\n"
     ]
    }
   ],
   "source": [
    "# Options\n",
    "file = 'network.tsv'                # Input file of the edge list - DO NOT EDIT\n",
    "command = 'simplified_pagerank'     # Command to run - DO NOT EDIT\n",
    "damping_factor = 0.85               # Damping factor - submit results for damping_factor = 0.85\n",
    "iterations = [10,25]                # Number of iterations - sumbit results for iterations = [10,25] \n",
    "\n",
    "# Run Simplified PageRank\n",
    "# DO NOT EDIT\n",
    "for i in iterations:\n",
    "    pr = PageRank(file)\n",
    "    pr.calculate_node_degree()\n",
    "    max_node_id = pr.get_max_node_id()\n",
    "    node_weights = np.ones(max_node_id + 1) / (max_node_id + 1)\n",
    "    result = pr.run_pagerank(node_weights=node_weights, iterations=i, damping_factor=damping_factor)\n",
    "    dump_results(command, i, result )"
   ]
  },
  {
   "cell_type": "markdown",
   "metadata": {},
   "source": [
    "### Personalized Pagerank"
   ]
  },
  {
   "cell_type": "code",
   "execution_count": 6,
   "metadata": {},
   "outputs": [
    {
     "name": "stdout",
     "output_type": "stream",
     "text": [
      "Max node id: 1157826\n",
      "Total source number: 374785\n",
      "Completed 1/10 iterations. 1.7250030040740967 seconds elapsed.\n",
      "Completed 2/10 iterations. 3.820420980453491 seconds elapsed.\n",
      "Completed 3/10 iterations. 6.002096891403198 seconds elapsed.\n",
      "Completed 4/10 iterations. 8.313766956329346 seconds elapsed.\n",
      "Completed 5/10 iterations. 10.480639934539795 seconds elapsed.\n",
      "Completed 6/10 iterations. 12.51805591583252 seconds elapsed.\n",
      "Completed 7/10 iterations. 14.69671082496643 seconds elapsed.\n",
      "Completed 8/10 iterations. 16.76564884185791 seconds elapsed.\n",
      "Completed 9/10 iterations. 18.784804105758667 seconds elapsed.\n",
      "Completed 10/10 iterations. 20.828288078308105 seconds elapsed.\n"
     ]
    },
    {
     "name": "stderr",
     "output_type": "stream",
     "text": [
      "Sorting...\n"
     ]
    },
    {
     "name": "stdout",
     "output_type": "stream",
     "text": [
      "node_id\tpr_value\n",
      "663930\t0.00017276961575367567\n",
      "482708\t9.437933018496048e-05\n",
      "1034017\t5.292539721334772e-05\n",
      "663559\t4.770044669739722e-05\n",
      "357530\t4.637957226912602e-05\n",
      "1120567\t4.500485776242928e-05\n",
      "663605\t4.393042418933154e-05\n",
      "663682\t3.648293372763639e-05\n",
      "1108860\t3.427115499102071e-05\n",
      "664788\t3.40866959370204e-05\n",
      "\n",
      "Max node id: 1157826\n",
      "Total source number: 374785\n",
      "Completed 1/25 iterations. 1.7962629795074463 seconds elapsed.\n",
      "Completed 2/25 iterations. 3.924945831298828 seconds elapsed.\n",
      "Completed 3/25 iterations. 6.085113048553467 seconds elapsed.\n",
      "Completed 4/25 iterations. 8.201142072677612 seconds elapsed.\n",
      "Completed 5/25 iterations. 10.250824928283691 seconds elapsed.\n",
      "Completed 6/25 iterations. 12.262521743774414 seconds elapsed.\n",
      "Completed 7/25 iterations. 14.316885948181152 seconds elapsed.\n",
      "Completed 8/25 iterations. 16.417407035827637 seconds elapsed.\n",
      "Completed 9/25 iterations. 18.52176785469055 seconds elapsed.\n",
      "Completed 10/25 iterations. 20.73339581489563 seconds elapsed.\n",
      "Completed 11/25 iterations. 22.881780862808228 seconds elapsed.\n",
      "Completed 12/25 iterations. 24.97524094581604 seconds elapsed.\n",
      "Completed 13/25 iterations. 27.035813808441162 seconds elapsed.\n",
      "Completed 14/25 iterations. 29.01700186729431 seconds elapsed.\n",
      "Completed 15/25 iterations. 31.085819959640503 seconds elapsed.\n",
      "Completed 16/25 iterations. 33.1124951839447 seconds elapsed.\n",
      "Completed 17/25 iterations. 35.198538064956665 seconds elapsed.\n",
      "Completed 18/25 iterations. 37.27878284454346 seconds elapsed.\n",
      "Completed 19/25 iterations. 39.610421895980835 seconds elapsed.\n",
      "Completed 20/25 iterations. 41.73872399330139 seconds elapsed.\n",
      "Completed 21/25 iterations. 43.84295988082886 seconds elapsed.\n",
      "Completed 22/25 iterations. 45.95576596260071 seconds elapsed.\n",
      "Completed 23/25 iterations. 48.01740908622742 seconds elapsed.\n",
      "Completed 24/25 iterations. 50.13728308677673 seconds elapsed.\n",
      "Completed 25/25 iterations. 52.15101385116577 seconds elapsed.\n"
     ]
    },
    {
     "name": "stderr",
     "output_type": "stream",
     "text": [
      "Sorting...\n"
     ]
    },
    {
     "name": "stdout",
     "output_type": "stream",
     "text": [
      "node_id\tpr_value\n",
      "663930\t0.00017276773240534524\n",
      "482708\t9.4378983044471e-05\n",
      "1034017\t5.291385005683523e-05\n",
      "663559\t4.770017091384768e-05\n",
      "357530\t4.6379391116971876e-05\n",
      "1120567\t4.498188502863723e-05\n",
      "663605\t4.393014733573655e-05\n",
      "663682\t3.6482923212379185e-05\n",
      "1108860\t3.424691001636123e-05\n",
      "664788\t3.4086429785788994e-05\n",
      "\n"
     ]
    }
   ],
   "source": [
    "# Options\n",
    "file = 'network.tsv'                # Input file of the edge list - DO NOT EDIT\n",
    "command = 'personalized_pagerank'   # Command to run - DO NOT EDIT\n",
    "damping_factor = 0.85               # Damping factor - submit results for damping_factor = 0.85\n",
    "iterations = [10,25]                # Number of iterations - sumbit results for iterations = [10,25] \n",
    "\n",
    "# Run Personalized PageRank\n",
    "# DO NOT EDIT\n",
    "for i in iterations:\n",
    "    pr = PageRank(file)\n",
    "    pr.calculate_node_degree()\n",
    "    max_node_id = pr.get_max_node_id()\n",
    "    np.random.seed(gtid())\n",
    "    node_weights = np.random.rand(max_node_id + 1)\n",
    "    node_weights = node_weights/node_weights.sum()\n",
    "    result = pr.run_pagerank(node_weights=node_weights, iterations=i, damping_factor=damping_factor)\n",
    "    dump_results(command, i, result)"
   ]
  },
  {
   "cell_type": "markdown",
   "metadata": {},
   "source": [
    "### Submitting your results to gradescope\n",
    "Submit the following on Gradescope  \n",
    "* Q1.ipynb\n",
    "* simplified_pagerank_iter10.txt\n",
    "* simplified_pagerank_iter25.txt\n",
    "* personalized_pagerank_iter10.txt\n",
    "* personalized_pagerank_iter25.txt\n"
   ]
  }
 ],
 "metadata": {
  "kernelspec": {
   "display_name": "Python 3",
   "language": "python",
   "name": "python3"
  },
  "language_info": {
   "codemirror_mode": {
    "name": "ipython",
    "version": 3
   },
   "file_extension": ".py",
   "mimetype": "text/x-python",
   "name": "python",
   "nbconvert_exporter": "python",
   "pygments_lexer": "ipython3",
   "version": "3.11.2"
  }
 },
 "nbformat": 4,
 "nbformat_minor": 2
}
